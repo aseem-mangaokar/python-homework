{
 "cells": [
  {
   "cell_type": "code",
   "execution_count": null,
   "id": "e3ba0e21-b62e-4aba-bc00-c9672b8d2548",
   "metadata": {},
   "outputs": [],
   "source": []
  },
  {
   "cell_type": "code",
   "execution_count": 1,
   "id": "0ee4bc26-55d5-4fa8-b81e-03efd4d0ca4e",
   "metadata": {},
   "outputs": [],
   "source": [
    "# import libraries\n",
    "import os\n",
    "import csv\n",
    "import pandas"
   ]
  },
  {
   "cell_type": "code",
   "execution_count": 13,
   "id": "0e1ea1c5-10cf-4d96-8732-cdfdaed48052",
   "metadata": {
    "tags": []
   },
   "outputs": [],
   "source": [
    "#  import budget_data.csv , use the dataframe generated\n",
    "dates_pnl = pandas.read_csv('budget_data.csv')"
   ]
  },
  {
   "cell_type": "code",
   "execution_count": 14,
   "id": "2700a550-6527-4673-ab68-0b40a7869f73",
   "metadata": {
    "tags": []
   },
   "outputs": [
    {
     "data": {
      "text/html": [
       "<div>\n",
       "<style scoped>\n",
       "    .dataframe tbody tr th:only-of-type {\n",
       "        vertical-align: middle;\n",
       "    }\n",
       "\n",
       "    .dataframe tbody tr th {\n",
       "        vertical-align: top;\n",
       "    }\n",
       "\n",
       "    .dataframe thead th {\n",
       "        text-align: right;\n",
       "    }\n",
       "</style>\n",
       "<table border=\"1\" class=\"dataframe\">\n",
       "  <thead>\n",
       "    <tr style=\"text-align: right;\">\n",
       "      <th></th>\n",
       "      <th>Date</th>\n",
       "      <th>Profit/Losses</th>\n",
       "    </tr>\n",
       "  </thead>\n",
       "  <tbody>\n",
       "    <tr>\n",
       "      <th>0</th>\n",
       "      <td>Jan-2010</td>\n",
       "      <td>867884</td>\n",
       "    </tr>\n",
       "    <tr>\n",
       "      <th>1</th>\n",
       "      <td>Feb-2010</td>\n",
       "      <td>984655</td>\n",
       "    </tr>\n",
       "    <tr>\n",
       "      <th>2</th>\n",
       "      <td>Mar-2010</td>\n",
       "      <td>322013</td>\n",
       "    </tr>\n",
       "    <tr>\n",
       "      <th>3</th>\n",
       "      <td>Apr-2010</td>\n",
       "      <td>-69417</td>\n",
       "    </tr>\n",
       "    <tr>\n",
       "      <th>4</th>\n",
       "      <td>May-2010</td>\n",
       "      <td>310503</td>\n",
       "    </tr>\n",
       "    <tr>\n",
       "      <th>...</th>\n",
       "      <td>...</td>\n",
       "      <td>...</td>\n",
       "    </tr>\n",
       "    <tr>\n",
       "      <th>81</th>\n",
       "      <td>Oct-2016</td>\n",
       "      <td>102685</td>\n",
       "    </tr>\n",
       "    <tr>\n",
       "      <th>82</th>\n",
       "      <td>Nov-2016</td>\n",
       "      <td>795914</td>\n",
       "    </tr>\n",
       "    <tr>\n",
       "      <th>83</th>\n",
       "      <td>Dec-2016</td>\n",
       "      <td>60988</td>\n",
       "    </tr>\n",
       "    <tr>\n",
       "      <th>84</th>\n",
       "      <td>Jan-2017</td>\n",
       "      <td>138230</td>\n",
       "    </tr>\n",
       "    <tr>\n",
       "      <th>85</th>\n",
       "      <td>Feb-2017</td>\n",
       "      <td>671099</td>\n",
       "    </tr>\n",
       "  </tbody>\n",
       "</table>\n",
       "<p>86 rows × 2 columns</p>\n",
       "</div>"
      ],
      "text/plain": [
       "        Date  Profit/Losses\n",
       "0   Jan-2010         867884\n",
       "1   Feb-2010         984655\n",
       "2   Mar-2010         322013\n",
       "3   Apr-2010         -69417\n",
       "4   May-2010         310503\n",
       "..       ...            ...\n",
       "81  Oct-2016         102685\n",
       "82  Nov-2016         795914\n",
       "83  Dec-2016          60988\n",
       "84  Jan-2017         138230\n",
       "85  Feb-2017         671099\n",
       "\n",
       "[86 rows x 2 columns]"
      ]
     },
     "execution_count": 14,
     "metadata": {},
     "output_type": "execute_result"
    }
   ],
   "source": [
    "dates_pnl"
   ]
  },
  {
   "cell_type": "code",
   "execution_count": 15,
   "id": "a22c13f7-1adc-4517-bf48-c03c16a9ee93",
   "metadata": {},
   "outputs": [],
   "source": [
    "#  TOTAL NUMBER OF MONTHS IN DATA SET\n",
    "\n",
    "    # extract a list of all the values under the header \"Date\" and place in a new list\n",
    "months_list = list(dates_pnl['Date'])\n",
    "\n",
    "    # calculate the number of values in the list of months\n",
    "number_months = len(list(dates_pnl['Date']))"
   ]
  },
  {
   "cell_type": "code",
   "execution_count": 16,
   "id": "4a41ea29-19cc-4e6c-a562-36fa6ee12e3f",
   "metadata": {},
   "outputs": [],
   "source": [
    "#  NET TOTAL PROFIT/LOSSES OVER THE ENTIRE PERIOD\n",
    "\n",
    "    # extract values under the header \"Profit/Losses\" and place in a new list\n",
    "pnl_list = list(dates_pnl['Profit/Losses'])\n",
    "\n",
    "    # calculate sum of the Profit/Loss values\n",
    "net_pnl = sum(pnl_list)"
   ]
  },
  {
   "cell_type": "code",
   "execution_count": 5,
   "id": "6d42a01c-6b66-47a3-b302-cec14390e197",
   "metadata": {},
   "outputs": [],
   "source": [
    "# AVERAGE OF THE CHANGES IN PROFIT/LOSSES OVER THE ENTIRE PERIOD\n",
    "\n",
    "# Initialize list to store values for monthly change in Profit and Loss\n",
    "pnl_monthlychange = []\n",
    "previousmonth_pnlchange = 0\n",
    "\n",
    "for i in range(len(pnl_list)):\n",
    "    if i == 0:\n",
    "        previousmonth_pnlchange = pnl_list[i]\n",
    "    else:\n",
    "        monthly_pnlchange = pnl_list[i] - pnl_list[i-1]\n",
    "        pnl_monthlychange.append(monthly_pnlchange)\n",
    "    \n",
    "#     calculate average change in P/L\n",
    "average_change_monthlyPL = round(sum(pnl_monthlychange)/len(pnl_monthlychange), 2)\n",
    "avg_change_monthlyPL = average_change_monthlyPL"
   ]
  },
  {
   "cell_type": "code",
   "execution_count": 10,
   "id": "3736911b-fcac-4c56-bfc8-7dcb6ed6e7a8",
   "metadata": {},
   "outputs": [
    {
     "name": "stdout",
     "output_type": "stream",
     "text": [
      "Feb-2012\n",
      "1926159\n",
      "Sep-2013\n",
      "-2196167\n"
     ]
    }
   ],
   "source": [
    "# * The greatest increase in profits (date and amount) over the entire period.\n",
    "\n",
    "best_month_profit_increase = max(pnl_monthlychange)\n",
    "date_best_profit_increase = months_list[pnl_monthlychange.index(best_month_profit_increase) +1]\n",
    "\n",
    "# * The greatest decrease in losses (date and amount) over the entire period.\n",
    "worst_month_profit_decrease = min(pnl_monthlychange)\n",
    "date_worst_month_profit_decrease = months_list[pnl_monthlychange.index(worst_month_profit_decrease) +1]\n",
    "\n",
    "print (date_best_profit_increase)\n",
    "print (best_month_profit_increase)\n",
    "\n",
    "print (date_worst_month_profit_decrease)\n",
    "print (worst_month_profit_decrease)"
   ]
  },
  {
   "cell_type": "code",
   "execution_count": 11,
   "id": "5121614f-ed70-4b09-8fcb-e2000c71e4c3",
   "metadata": {},
   "outputs": [
    {
     "name": "stdout",
     "output_type": "stream",
     "text": [
      "Financial Analysis\n",
      "-------------------------------\n",
      "There are 86 months in the data set.\n",
      "The net total Profit/Loss over the entire period was $38382578.\n",
      "The average change in Profit/Loss over the entire period was $ -2315.12\n",
      "The greatest increase in Profits/Losses was $ 1926159 in Feb-2012.\n",
      "The greatest decrease in Profits/Losses was $ -2196167 in Sep-2013.\n"
     ]
    }
   ],
   "source": [
    "#  PRINT STATEMENTS\n",
    "print(f\"Financial Analysis\")\n",
    "\n",
    "print(f\"-------------------------------\")\n",
    "\n",
    "print(f\"There are {number_months} months in the data set.\")\n",
    "\n",
    "print(f\"The net total Profit/Loss over the entire period was ${net_pnl}.\")\n",
    "\n",
    "print(f\"The average change in Profit/Loss over the entire period was $ {round(average_change_monthlyPL, 2)}\")\n",
    "\n",
    "print(f\"The greatest increase in Profits/Losses was $ {best_month_profit_increase} in {date_best_profit_increase}.\")\n",
    "      \n",
    "print(f\"The greatest decrease in Profits/Losses was $ {worst_month_profit_decrease} in {date_worst_month_profit_decrease}.\")"
   ]
  },
  {
   "cell_type": "code",
   "execution_count": 12,
   "id": "f2047891-9c11-4eaa-ad0a-1eb75307ce0b",
   "metadata": {},
   "outputs": [],
   "source": [
    "# write the analysis to a new text file\n",
    "\n",
    "with open('python-homework-textfile.txt', 'w') as file:\n",
    "    file.write(\"Financial Analysis\"+ \"\\n\")\n",
    "    file.write(\"------------------------------- \\n\")\n",
    "    file.write(\"Total Months: \" + str(number_months) + \"\\n\")\n",
    "    file.write(\"Net Profit/Loss: \" + \"$ \" + str(net_pnl) + \"\\n\")\n",
    "    file.write(\"Avg. Change: \" + \"$\" +  str(avg_change_monthlyPL) + \"\\n\")\n",
    "    file.write(\"Greatest Increase :\"  + \"$ \" + str(best_month_profit_increase)  + \" in \" + str(date_best_profit_increase) + \"\\n\")\n",
    "    file.write(\"Greatest Decrease: \" + \"$ \" + str(worst_month_profit_decrease) + \" in \" + str(date_worst_month_profit_decrease) + \"\\n\")\n",
    "    file.write(\"-------------------------------\")"
   ]
  },
  {
   "cell_type": "code",
   "execution_count": null,
   "id": "4e281b88-af62-46f7-834f-bb3d98d60484",
   "metadata": {},
   "outputs": [],
   "source": []
  }
 ],
 "metadata": {
  "kernelspec": {
   "display_name": "Python 3",
   "language": "python",
   "name": "python3"
  },
  "language_info": {
   "codemirror_mode": {
    "name": "ipython",
    "version": 3
   },
   "file_extension": ".py",
   "mimetype": "text/x-python",
   "name": "python",
   "nbconvert_exporter": "python",
   "pygments_lexer": "ipython3",
   "version": "3.8.5"
  }
 },
 "nbformat": 4,
 "nbformat_minor": 5
}
