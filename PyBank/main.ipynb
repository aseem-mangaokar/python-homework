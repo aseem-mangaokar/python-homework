{
 "cells": [
  {
   "cell_type": "code",
   "execution_count": 1,
   "id": "0ee4bc26-55d5-4fa8-b81e-03efd4d0ca4e",
   "metadata": {},
   "outputs": [],
   "source": [
    "        # IMPORT LIBRARIES\n",
    "import os\n",
    "import csv\n",
    "import pandas"
   ]
  },
  {
   "cell_type": "code",
   "execution_count": 2,
   "id": "0e1ea1c5-10cf-4d96-8732-cdfdaed48052",
   "metadata": {
    "tags": []
   },
   "outputs": [],
   "source": [
    "    #  import budget_data.csv , use the dataframe generated\n",
    "dates_pnl = pandas.read_csv('budget_data.csv')"
   ]
  },
  {
   "cell_type": "code",
   "execution_count": 3,
   "id": "a22c13f7-1adc-4517-bf48-c03c16a9ee93",
   "metadata": {},
   "outputs": [],
   "source": [
    "        #  TOTAL NUMBER OF MONTHS IN DATA SET\n",
    "\n",
    "    # extract a list of all the values under the header \"Date\" and place in a new list\n",
    "months_list = list(dates_pnl['Date'])\n",
    "\n",
    "    # calculate the number of values in the list of months\n",
    "number_months = len(list(dates_pnl['Date']))"
   ]
  },
  {
   "cell_type": "code",
   "execution_count": 4,
   "id": "4a41ea29-19cc-4e6c-a562-36fa6ee12e3f",
   "metadata": {},
   "outputs": [],
   "source": [
    "        #  NET TOTAL PROFIT/LOSSES OVER THE ENTIRE PERIOD\n",
    "\n",
    "    # extract values under the header \"Profit/Losses\" and place in a new list\n",
    "pnl_list = list(dates_pnl['Profit/Losses'])\n",
    "\n",
    "    # calculate sum of the Profit/Loss values\n",
    "net_pnl = sum(pnl_list)"
   ]
  },
  {
   "cell_type": "code",
   "execution_count": 19,
   "id": "35e8ad99-aba0-47ad-b871-621a4e4f0a66",
   "metadata": {},
   "outputs": [],
   "source": [
    "        # AVERAGE OF THE CHANGES IN PROFIT/LOSSES OVER THE ENTIRE PERIOD\n",
    "\n",
    " # Initialize list to store values for monthly change in Profit and Loss\n",
    "\n",
    "pnl_monthlychange = []\n",
    "previousmonth_pnlchange = 0"
   ]
  },
  {
   "cell_type": "code",
   "execution_count": 20,
   "id": "8f67f12f-9941-44f3-8e0c-b17789cb708e",
   "metadata": {},
   "outputs": [],
   "source": [
    "for i in range(len(pnl_list)):\n",
    "    if i == 0:\n",
    "        previousmonth_pnlchange = pnl_list[i]\n",
    "    else:\n",
    "        monthly_pnlchange = pnl_list[i] - pnl_list[i-1]\n",
    "        pnl_monthlychange.append(monthly_pnlchange)\n",
    "    \n",
    "    # calculate average change in P/L\n",
    "average_change_monthlyPL = round(sum(pnl_monthlychange)/len(pnl_monthlychange), 2)\n",
    "avg_change_monthlyPL = average_change_monthlyPL"
   ]
  },
  {
   "cell_type": "code",
   "execution_count": 21,
   "id": "3736911b-fcac-4c56-bfc8-7dcb6ed6e7a8",
   "metadata": {},
   "outputs": [],
   "source": [
    "        # GREATEST INCREASE AND DECREASE IN PROFITS OVER THE ENTIRE PERIOD\n",
    "\n",
    "    # The greatest increase in profits (date and amount) over the entire period.\n",
    "\n",
    "best_month_profit_increase = max(pnl_monthlychange)\n",
    "date_best_profit_increase = months_list[pnl_monthlychange.index(best_month_profit_increase) +1]\n",
    "\n",
    "# The greatest decrease in losses (date and amount) over the entire period.\n",
    "worst_month_profit_decrease = min(pnl_monthlychange)\n",
    "date_worst_month_profit_decrease = months_list[pnl_monthlychange.index(worst_month_profit_decrease) +1]"
   ]
  },
  {
   "cell_type": "code",
   "execution_count": 22,
   "id": "5121614f-ed70-4b09-8fcb-e2000c71e4c3",
   "metadata": {},
   "outputs": [
    {
     "name": "stdout",
     "output_type": "stream",
     "text": [
      "Financial Analysis\n",
      "-------------------------------\n",
      "There are 86 months in the data set.\n",
      "The net total Profit/Loss over the entire period was $38382578.\n",
      "The average change in Profit/Loss over the entire period was $ -2315.12\n",
      "The greatest increase in Profits/Losses was $ 1926159 in Feb-2012.\n",
      "The greatest decrease in Profits/Losses was $ -2196167 in Sep-2013.\n"
     ]
    }
   ],
   "source": [
    "        #  PRINT STATEMENTS\n",
    "print(f\"Financial Analysis\")\n",
    "\n",
    "print(f\"-------------------------------\")\n",
    "\n",
    "print(f\"There are {number_months} months in the data set.\")\n",
    "\n",
    "print(f\"The net total Profit/Loss over the entire period was ${net_pnl}.\")\n",
    "\n",
    "print(f\"The average change in Profit/Loss over the entire period was $ {round(average_change_monthlyPL, 2)}\")\n",
    "\n",
    "print(f\"The greatest increase in Profits/Losses was $ {best_month_profit_increase} in {date_best_profit_increase}.\")\n",
    "      \n",
    "print(f\"The greatest decrease in Profits/Losses was $ {worst_month_profit_decrease} in {date_worst_month_profit_decrease}.\")"
   ]
  },
  {
   "cell_type": "code",
   "execution_count": 23,
   "id": "f2047891-9c11-4eaa-ad0a-1eb75307ce0b",
   "metadata": {},
   "outputs": [],
   "source": [
    "        # WRITE ANALYSIS TO NEW TEXT FILE\n",
    "\n",
    "with open('python-homework-textfile.txt', 'w') as file:\n",
    "    file.write(\"Financial Analysis\"+ \"\\n\")\n",
    "    file.write(\"------------------------------- \\n\")\n",
    "    file.write(\"Total Months: \" + str(number_months) + \"\\n\")\n",
    "    file.write(\"Net Profit/Loss: \" + \"$ \" + str(net_pnl) + \"\\n\")\n",
    "    file.write(\"Avg. Change: \" + \"$\" +  str(avg_change_monthlyPL) + \"\\n\")\n",
    "    file.write(\"Greatest Increase :\"  + \"$ \" + str(best_month_profit_increase)  + \" in \" + str(date_best_profit_increase) + \"\\n\")\n",
    "    file.write(\"Greatest Decrease: \" + \"$ \" + str(worst_month_profit_decrease) + \" in \" + str(date_worst_month_profit_decrease) + \"\\n\")\n",
    "    file.write(\"-------------------------------\")"
   ]
  },
  {
   "cell_type": "code",
   "execution_count": null,
   "id": "4e281b88-af62-46f7-834f-bb3d98d60484",
   "metadata": {},
   "outputs": [],
   "source": []
  }
 ],
 "metadata": {
  "kernelspec": {
   "display_name": "Python 3",
   "language": "python",
   "name": "python3"
  },
  "language_info": {
   "codemirror_mode": {
    "name": "ipython",
    "version": 3
   },
   "file_extension": ".py",
   "mimetype": "text/x-python",
   "name": "python",
   "nbconvert_exporter": "python",
   "pygments_lexer": "ipython3",
   "version": "3.8.5"
  }
 },
 "nbformat": 4,
 "nbformat_minor": 5
}
